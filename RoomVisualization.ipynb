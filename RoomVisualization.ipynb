{
 "cells": [
  {
   "cell_type": "code",
   "execution_count": 1,
   "id": "99db765c-23e9-492d-9dfb-5a1d0b47fa2b",
   "metadata": {
    "scrolled": true
   },
   "outputs": [
    {
     "name": "stdout",
     "output_type": "stream",
     "text": [
      "^C\n",
      "Traceback (most recent call last):\n",
      "  File \"/opt/mamba/bin/pip\", line 6, in <module>\n",
      "    from pip._internal.cli.main import main\n",
      "  File \"/opt/mamba/lib/python3.11/site-packages/pip/_internal/cli/main.py\", line 10, in <module>\n",
      "    from pip._internal.cli.autocompletion import autocomplete\n",
      "  File \"/opt/mamba/lib/python3.11/site-packages/pip/_internal/cli/autocompletion.py\", line 10, in <module>\n",
      "    from pip._internal.cli.main_parser import create_main_parser\n",
      "  File \"/opt/mamba/lib/python3.11/site-packages/pip/_internal/cli/main_parser.py\", line 9, in <module>\n",
      "    from pip._internal.build_env import get_runnable_pip\n",
      "  File \"/opt/mamba/lib/python3.11/site-packages/pip/_internal/build_env.py\", line 19, in <module>\n"
     ]
    }
   ],
   "source": [
    "!pip install audio-dspy librosa"
   ]
  },
  {
   "cell_type": "code",
   "execution_count": null,
   "id": "a253f00a-2d61-4c14-845d-4e3619bbf83b",
   "metadata": {},
   "outputs": [],
   "source": [
    "import pandas as pd\n",
    "import numpy as np\n",
    "import librosa\n",
    "\n",
    "import audio_dspy as adsp\n",
    "from scipy.interpolate import interp2d\n",
    "import scipy.stats as stats\n",
    "from IPython.display import Audio\n",
    "\n",
    "import os\n",
    "\n",
    "import matplotlib.pyplot as plt\n",
    "\n",
    "from utils import download_dataset_if_needed, get_dataset"
   ]
  },
  {
   "cell_type": "code",
   "execution_count": null,
   "id": "894b289b-392b-4dbe-b3d8-2db706590a9e",
   "metadata": {},
   "outputs": [],
   "source": [
    "download_dataset_if_needed()"
   ]
  },
  {
   "cell_type": "code",
   "execution_count": null,
   "id": "ccb8a2e1-9058-497b-803a-98603a0b690f",
   "metadata": {},
   "outputs": [],
   "source": [
    "DATASET_PATH = \"LivingRoom_preprocessed_hack\"\n",
    "empty_dataset = get_dataset(None, \"deconvolved.npy\", os.path.join(DATASET_PATH, \"Empty\"))\n",
    "human1_dataset = get_dataset(\"centroid.npy\", \"deconvoled_trim.npy\", os.path.join(DATASET_PATH, \"Human1\"))"
   ]
  },
  {
   "cell_type": "code",
   "execution_count": null,
   "id": "a0923be1-f228-4e13-a1d6-6ab16667859f",
   "metadata": {},
   "outputs": [],
   "source": [
    "dr.room_setup.plot_room(human1_dataset[1])"
   ]
  },
  {
   "cell_type": "code",
   "execution_count": null,
   "id": "8cf8eab7-c08c-4f31-a24f-8700b657b712",
   "metadata": {},
   "outputs": [],
   "source": [
    "def find_freqs(x, fs, thresh=30, above=0, frac_off=0.1, plot=False):\n",
    "    \"\"\"\n",
    "    Find the mode frequencies of a signal\n",
    "    Parameters\n",
    "    ----------\n",
    "    x : ndarray\n",
    "        signal to analyze\n",
    "    fs : float\n",
    "        sample rate of the signal\n",
    "    thresh : float, optional\n",
    "        threshold to use for finding modes [dB]\n",
    "    above : float, optional\n",
    "        lower limit frequency to look for modes\n",
    "    frac_off : float, optional\n",
    "        to avoid finding multiple peaks for the same mode,\n",
    "        this parameter defines a fractional offset for\n",
    "        frequency breaks between modes\n",
    "    plot : bool, optional\n",
    "        should plot this analysis\n",
    "    Returns\n",
    "    -------\n",
    "    freqs : ndarray\n",
    "        Mode frequencies [Hz]\n",
    "    peaks : ndarray\n",
    "        Mode magnitudes [gain]\n",
    "    \"\"\"\n",
    "    X = np.fft.rfft(x)\n",
    "    f = np.linspace(0, fs/2, num=len(X))\n",
    "\n",
    "    X_freqs = []\n",
    "    X_peaks = []\n",
    "    Mag = 20 * np.log10(np.abs(X))\n",
    "    for k in range(len(X)):\n",
    "        # check if above thresh\n",
    "        if (Mag[k] < thresh):\n",
    "            continue\n",
    "\n",
    "        # check if within frac_off of a larger peak\n",
    "        k_test = k\n",
    "        flag = 0\n",
    "        while (k_test < (len(X) - 1)) and (f[k_test] < f[k] * (1 + frac_off)):\n",
    "            k_test += 1\n",
    "            if Mag[k_test] > Mag[k]:\n",
    "                flag = 1\n",
    "                break\n",
    "\n",
    "        k_test = k\n",
    "        while(f[k_test] > f[k] * (1 - frac_off)):\n",
    "            k_test -= 1\n",
    "            if Mag[k_test] > Mag[k]:\n",
    "                flag = 1\n",
    "                break\n",
    "\n",
    "        if flag == 1:\n",
    "            continue\n",
    "\n",
    "        # if above lower limit\n",
    "        if (f[k] > above):\n",
    "            X_freqs.append(f[k])\n",
    "            X_peaks.append(np.abs(X[k]))\n",
    "\n",
    "    # plot if needed\n",
    "    if plot:\n",
    "        plt.semilogx(f, 20 * np.log10(np.abs(X)))\n",
    "        for freq in X_freqs:\n",
    "            plt.axvline(freq, color='r')\n",
    "        plt.ylabel('Magnitude [dB]')\n",
    "        plt.xlabel('Frequency [Hz]')\n",
    "        plt.xlim(20,22050)\n",
    "\n",
    "    return np.asarray(X_freqs), np.asarray(X_peaks)"
   ]
  },
  {
   "cell_type": "code",
   "execution_count": null,
   "id": "2a744589-e45b-4fb2-9009-90ed27d087db",
   "metadata": {},
   "outputs": [],
   "source": [
    "def get_dampings(x, fs, thresh=30, above=0, frac_off=0.1, plot=False):\n",
    "    freqs = find_freqs(x, fs, above=above, thresh=thresh, frac_off=frac_off, plot=False)[0]\n",
    "    \n",
    "    filt_width=20\n",
    "    thresh=-40\n",
    "    eta=0.01\n",
    "    taus = []\n",
    "    tau_freqs = []\n",
    "    for freq in freqs:\n",
    "        x_filt = adsp.filt_mode(x, freq, fs, filt_width)\n",
    "        env = adsp.normalize(adsp.energy_envelope(x_filt, fs, eta))\n",
    "\n",
    "        top = int(np.argmax(20 * np.log10(env)))\n",
    "        noise_floor = np.max(20 * np.log10(env[int(len(env)*0.9):]))\n",
    "        top_val = 20 * np.log10(env[top])\n",
    "        start = int(np.argwhere(20 * np.log10(env[top:]) < (noise_floor + (top_val-noise_floor) * 0.9))[0]) + top\n",
    "        end = int(np.argwhere(20 * np.log10(env[start:]) < (noise_floor + (top_val-noise_floor) * 0.1))[0]) + start\n",
    "        if end <= start:\n",
    "            continue\n",
    "        slope, _, _, _, _ = stats.linregress(\n",
    "            np.arange(len(env[start:end])), 20 * np.log10(env[start:end]))\n",
    "\n",
    "        gamma = 10**(slope/20)\n",
    "        tau = -1 / np.log(gamma)\n",
    "        taus.append(tau)\n",
    "        tau_freqs.append(freq)\n",
    "        \n",
    "        if plot:\n",
    "            plt.figure()\n",
    "            plt.title('Decay model for mode = {0:.2f} Hz'.format(freq))\n",
    "            n = np.arange(len(env))\n",
    "            plt.plot(n / fs, 20*np.log10(np.abs(x_filt)))\n",
    "            plt.plot(n / fs, 20*np.log10(env))\n",
    "            plt.plot(n / fs, 20*np.log10(np.exp(-1.0 * n / tau)), color='r')\n",
    "            plt.xlabel('Time [s]')\n",
    "            plt.ylim(thresh * 2, 5)\n",
    "\n",
    "    return 1./np.array(taus), np.array(tau_freqs)"
   ]
  },
  {
   "cell_type": "code",
   "execution_count": null,
   "id": "c48f04c7-e2c5-418a-8ea8-e1e91f103ae3",
   "metadata": {},
   "outputs": [],
   "source": [
    "data = RIRs[0, 0]\n",
    "sampling_rate = 48e3\n",
    "\n",
    "#freqs = find_freqs(data, sampling_rate, above=20, thresh=5, frac_off=0.1, plot=True)[0]\n",
    "#plt.show()\n",
    "#dampings, damp_freqs = get_dampings(data, sampling_rate, above=20, thresh=5, frac_off=0.1, plot=True)\n",
    "#plt.show()\n",
    "data.shape[0]"
   ]
  },
  {
   "cell_type": "code",
   "execution_count": null,
   "id": "c7d0d532-185a-40ea-97d5-2a692dd9ac90",
   "metadata": {},
   "outputs": [],
   "source": [
    "import librosa"
   ]
  },
  {
   "cell_type": "code",
   "execution_count": null,
   "id": "8f45e529-28ff-4bbc-af50-68db732bab5b",
   "metadata": {},
   "outputs": [],
   "source": [
    "def get_audio_from(dt, human: int, micro: int):\n",
    "    return Audio(dt[2][human,micro], rate=sampling_rate)"
   ]
  },
  {
   "cell_type": "code",
   "execution_count": null,
   "id": "a69f620f-f961-4826-a12c-e5dc51c37073",
   "metadata": {},
   "outputs": [],
   "source": [
    "get_audio_from(human1_dataset, 0, 0)"
   ]
  },
  {
   "cell_type": "code",
   "execution_count": null,
   "id": "6ce620ef-8f7d-477f-9936-565e96a1b474",
   "metadata": {},
   "outputs": [],
   "source": [
    "def show_spec(S):\n",
    "    plt.figure()\n",
    "    librosa.display.specshow(S)\n",
    "    plt.colorbar()\n",
    "    \n",
    "def plot_spectro(dt, human: int, micro: int):\n",
    "    data = dt[2][human, micro]\n",
    "    D = librosa.stft(data)\n",
    "    S_db = librosa.amplitude_to_db(np.abs(D), ref=np.max)\n",
    "    show_spec(S_db)\n",
    "    return S_db"
   ]
  },
  {
   "cell_type": "code",
   "execution_count": null,
   "id": "3926cbcb-30ae-4864-a746-73b5fe773f31",
   "metadata": {},
   "outputs": [],
   "source": [
    "S_human = plot_spectro(human1_dataset, 0, 0)"
   ]
  },
  {
   "cell_type": "code",
   "execution_count": null,
   "id": "d690466a-569d-45a6-a53a-637c541e70e2",
   "metadata": {},
   "outputs": [],
   "source": [
    "S_empty = plot_spectro(empty_dataset, 0, 0)"
   ]
  },
  {
   "cell_type": "code",
   "execution_count": null,
   "id": "5af128c3-1853-4a40-9aa0-ccb7485eae3c",
   "metadata": {},
   "outputs": [],
   "source": [
    "show_spec(np.abs(S_empty - S_human))"
   ]
  },
  {
   "cell_type": "code",
   "execution_count": null,
   "id": "27f9db05-21d3-493f-9d9f-5fbe6a50f634",
   "metadata": {},
   "outputs": [],
   "source": [
    "np.abs(S_empty - S_human).shape"
   ]
  },
  {
   "cell_type": "code",
   "execution_count": null,
   "id": "ba3263c8-4c5f-45f3-a6a0-9d70ccab771c",
   "metadata": {},
   "outputs": [],
   "source": []
  }
 ],
 "metadata": {
  "kernelspec": {
   "display_name": "Python 3 (ipykernel)",
   "language": "python",
   "name": "python3"
  },
  "language_info": {
   "codemirror_mode": {
    "name": "ipython",
    "version": 3
   },
   "file_extension": ".py",
   "mimetype": "text/x-python",
   "name": "python",
   "nbconvert_exporter": "python",
   "pygments_lexer": "ipython3",
   "version": "3.11.6"
  }
 },
 "nbformat": 4,
 "nbformat_minor": 5
}
