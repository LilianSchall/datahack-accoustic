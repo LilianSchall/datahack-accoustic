{
 "cells": [
  {
   "cell_type": "code",
   "execution_count": 3,
   "metadata": {},
   "outputs": [],
   "source": [
    "import argparse\n",
    "import os\n",
    "import random\n",
    "import sys\n",
    "import numpy as np\n",
    "import torch\n",
    "import torchaudio.functional as F\n",
    "import config\n",
    "\n",
    "from utils import download_dataset_if_needed\n",
    "\n",
    "sys.path.insert(0, \"models/VGGish\")\n",
    "\n",
    "from models.VGGish.vggish_multichannel import VGGishMulti\n",
    "\n",
    "import pandas as pd\n",
    "import numpy as np\n",
    "\n",
    "import os\n",
    "\n",
    "sys.path.insert(0, 'datasets/')\n",
    "\n",
    "from datasets.dataset import Dataset\n",
    "from datasets import livingroom\n",
    "from datasets.roomsetup import RoomSetup\n",
    "import matplotlib.pyplot as plt\n",
    "\n",
    "import librosa\n",
    "\n",
    "from sklearn.preprocessing import minmax_scale\n",
    "from sklearn.model_selection import train_test_split\n",
    "\n",
    "from utils import download_dataset_if_needed"
   ]
  },
  {
   "cell_type": "code",
   "execution_count": 4,
   "metadata": {},
   "outputs": [
    {
     "name": "stdout",
     "output_type": "stream",
     "text": [
      "gvimont/diffusion/hackathon-minarm-2024/Acoustique/LivingRoom_preprocessed_hack.zip\n"
     ]
    }
   ],
   "source": [
    "download_dataset_if_needed()"
   ]
  },
  {
   "cell_type": "code",
   "execution_count": 6,
   "metadata": {},
   "outputs": [
    {
     "data": {
      "text/plain": [
       "array([[-3343.275 , -3146.425 ,  1277.9375],\n",
       "       [-3284.5375,  1587.5   ,  1277.9375],\n",
       "       [  136.525 ,    53.975 ,  1277.9375],\n",
       "       [  -76.2   , -3594.1   ,  1277.9375]])"
      ]
     },
     "execution_count": 6,
     "metadata": {},
     "output_type": "execute_result"
    }
   ],
   "source": [
    "DATASET_PATH = \"LivingRoom_preprocessed_hack/Human1\"\n",
    "\n",
    "dr = Dataset(RoomSetup(livingroom.speaker_xyz,\n",
    "                livingroom.mic_xyzs,\n",
    "                livingroom.x_min,\n",
    "                livingroom.x_max,\n",
    "                livingroom.y_min,\n",
    "                livingroom.y_max,\n",
    "                livingroom.walls), DATASET_PATH)\n",
    "livingroom.mic_xyzs"
   ]
  },
  {
   "cell_type": "code",
   "execution_count": 7,
   "metadata": {},
   "outputs": [
    {
     "name": "stdout",
     "output_type": "stream",
     "text": [
      "Shape of Centroid:\n",
      "(1000, 2)\n",
      "Shape of RIRs:\n",
      "(1000, 4, 667200)\n"
     ]
    }
   ],
   "source": [
    "centroid = np.load(os.path.join(DATASET_PATH, \"centroid.npy\"))\n",
    "print(\"Shape of Centroid:\")\n",
    "print(centroid.shape)\n",
    "\n",
    "#Loading Room Impulse Response (1000 human locations x 10 microphones x M time samples)\n",
    "deconv = np.load(os.path.join(DATASET_PATH, \"deconvoled_trim.npy\"), mmap_mode='r')\n",
    "print(\"Shape of RIRs:\")\n",
    "print(deconv.shape)"
   ]
  },
  {
   "cell_type": "code",
   "execution_count": 8,
   "metadata": {},
   "outputs": [],
   "source": [
    "save_path = \"models/VGGish/vggish_multi_model.pt\"\n",
    "error_path =\"models/VGGish/vggish_multi_errors/\"\n",
    "\n",
    "vggish_multi = VGGishMulti(save_path=save_path, error_path=error_path)\n",
    "# vggish_multi = VGGishMulti(saved_model=\"models/VGGish/vggish_multi_model.pt\", save_path=save_path, error_path=error_path)"
   ]
  },
  {
   "cell_type": "code",
   "execution_count": 9,
   "metadata": {},
   "outputs": [],
   "source": [
    "X_train, X_test, y_train, y_test = train_test_split(deconv, centroid, test_size=0.2, random_state=42)\n",
    "\n",
    "X_train, X_valid, y_train, y_valid = train_test_split(X_train, y_train, test_size=0.25, random_state=42)"
   ]
  },
  {
   "cell_type": "code",
   "execution_count": 10,
   "metadata": {},
   "outputs": [
    {
     "name": "stdout",
     "output_type": "stream",
     "text": [
      "Reshuffling for Epoch 0\n"
     ]
    },
    {
     "name": "stderr",
     "output_type": "stream",
     "text": [
      "/opt/mamba/lib/python3.11/site-packages/torch/functional.py:660: UserWarning: stft with return_complex=False is deprecated. In a future pytorch release, stft will return complex tensors for all inputs, and return_complex=False will raise an error.\n",
      "Note: you can still call torch.view_as_real on the complex output to recover the old return format. (Triggered internally at ../aten/src/ATen/native/SpectralOps.cpp:874.)\n",
      "  return _VF.stft(input, n_fft, hop_length, win_length, window,  # type: ignore[attr-defined]\n"
     ]
    },
    {
     "name": "stdout",
     "output_type": "stream",
     "text": [
      "Validation XY Loss: 0.983\n",
      "Validation Loss: 0.983\n",
      "Reshuffling for Epoch 1\n",
      "Validation XY Loss: 0.982\n",
      "Validation Loss: 0.982\n"
     ]
    }
   ],
   "source": [
    "# Train the VGGishMulti model\n",
    "vggish_multi.fit(X_train, y_train, X_valid, y_valid, num_epochs=2)"
   ]
  },
  {
   "cell_type": "code",
   "execution_count": 11,
   "metadata": {},
   "outputs": [
    {
     "name": "stdout",
     "output_type": "stream",
     "text": [
      "TEST ERROR\n",
      "[1273.3767   159.25922 1772.5337  1510.1097  1423.9376  2471.7148\n",
      " 1942.2927  2281.0784  2926.3496  2295.0928  2372.766    986.07697\n",
      " 2536.6697  2404.627   2267.8706  1644.9401  1164.815   1643.2407\n",
      " 1152.3745  2070.6655  2428.667   1920.084   1180.7115  2060.5713\n",
      " 1046.756   1847.9352  1818.9242  1710.5706  2209.      1773.8237\n",
      "  947.43866 2326.92    2152.7578  2339.6025  1312.389   1949.9246\n",
      " 1937.6398  1742.6042  2200.3057   717.5978   899.3248  2282.3188\n",
      " 2354.338   2170.457   2454.4822  1146.793   1544.7355  2165.8862\n",
      " 2152.913   1595.2144   960.19836 1397.1478   317.97366 1169.3341\n",
      " 2273.7693   935.0873  1465.459   1697.2299  1178.6788  2085.3584\n",
      " 2194.8162   525.28564 2730.5215   782.21606 2350.748    359.75012\n",
      " 1763.6068  1754.4211  2190.853   2397.7383  1675.1681  1890.7876\n",
      "  824.5244  2298.8464  1577.5557  2261.1587  1832.2878  1353.4713\n",
      " 1105.8882  1921.6786  1374.7019  1995.9894  1550.3176  2110.8901\n",
      " 1957.0685  1699.4635  1767.4186  1417.5797  1425.505    806.4751\n",
      " 1774.2473  2445.2524  1210.2739  1807.0607  1882.1993  1762.3413\n",
      " 1506.5969  2399.5637  1287.8108  1569.5975  1499.2314  1582.3732\n",
      " 2239.2852  1100.6656  2740.725   1976.9432  2218.1067  2051.3171\n",
      " 1216.756   1509.7992  2288.3713  2014.5883  2067.8923  1985.0519\n",
      " 1935.897   1964.4227  1584.3832  1424.1859  2191.167   2295.523\n",
      "  213.60806 2224.1956  1407.0841   471.93576 1739.7102  2005.219\n",
      " 1543.6371  1857.7391  1750.8285  1968.3215  2094.0476  2023.9517\n",
      " 1135.7073  2237.436   2149.1863   439.74094 2218.152   1893.2913\n",
      " 2099.999   1699.8846  2339.4805   782.63947 1574.4229  1271.8672\n",
      "  203.82849 2119.9146  2215.0586  1451.6752  2254.5264  1744.3461\n",
      " 2010.6305  1994.0029  1466.5493  2276.9312  2881.88    1171.3531\n",
      " 2080.2925   923.6442   758.43414 1553.9941  1378.8883  1890.9934\n",
      " 1925.208   1823.6655  2030.8135  2182.8428  2262.761    254.93062\n",
      " 1350.8887  2405.6865   883.50006  134.67288 2277.7815  1538.6627\n",
      " 1582.7338  1267.7721  1667.8386   180.45331 2031.1093  2281.144\n",
      " 1731.8384  2463.5063   855.7244  1893.8716  1905.4523  2497.4668\n",
      "  727.62274 1612.2764  2755.5754   800.1571  1913.3572  2193.0737\n",
      " 1852.8846  2175.6562   896.369   1572.4373  1372.5233   464.2998\n",
      " 1394.8157   901.4122 ]\n",
      "MEAN TEST ERROR\n",
      "1695.9044\n",
      "MED TEST ERROR\n",
      "1774.0355\n",
      "STD TEST ERROR\n",
      "593.5103\n"
     ]
    }
   ],
   "source": [
    "vggish_multi.predict(X_test, y_test)"
   ]
  }
 ],
 "metadata": {
  "kernelspec": {
   "display_name": "base",
   "language": "python",
   "name": "python3"
  },
  "language_info": {
   "codemirror_mode": {
    "name": "ipython",
    "version": 3
   },
   "file_extension": ".py",
   "mimetype": "text/x-python",
   "name": "python",
   "nbconvert_exporter": "python",
   "pygments_lexer": "ipython3",
   "version": "3.11.6"
  }
 },
 "nbformat": 4,
 "nbformat_minor": 2
}
