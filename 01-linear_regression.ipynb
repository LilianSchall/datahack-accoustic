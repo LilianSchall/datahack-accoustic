{
 "cells": [
  {
   "cell_type": "code",
   "execution_count": 1,
   "id": "cc8db14e-b2bd-42ac-b824-0d7f94641252",
   "metadata": {},
   "outputs": [],
   "source": [
    "from models.linear_regression import LinearRegression\n",
    "\n",
    "model = LinearRegression()"
   ]
  },
  {
   "cell_type": "code",
   "execution_count": null,
   "id": "10ae0843-c4d5-4bc1-965e-15fa19319eba",
   "metadata": {},
   "outputs": [],
   "source": []
  }
 ],
 "metadata": {
  "kernelspec": {
   "display_name": "Python 3 (ipykernel)",
   "language": "python",
   "name": "python3"
  },
  "language_info": {
   "codemirror_mode": {
    "name": "ipython",
    "version": 3
   },
   "file_extension": ".py",
   "mimetype": "text/x-python",
   "name": "python",
   "nbconvert_exporter": "python",
   "pygments_lexer": "ipython3",
   "version": "3.11.6"
  }
 },
 "nbformat": 4,
 "nbformat_minor": 5
}
